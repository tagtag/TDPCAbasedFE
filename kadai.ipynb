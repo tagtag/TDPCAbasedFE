{
  "nbformat": 4,
  "nbformat_minor": 0,
  "metadata": {
    "colab": {
      "name": "kadai.ipynb",
      "provenance": [],
      "authorship_tag": "ABX9TyOBPlIUOcsX+PldqIlFxC47",
      "include_colab_link": true
    },
    "kernelspec": {
      "name": "ir",
      "display_name": "R"
    },
    "language_info": {
      "name": "R"
    }
  },
  "cells": [
    {
      "cell_type": "markdown",
      "metadata": {
        "id": "view-in-github",
        "colab_type": "text"
      },
      "source": [
        "<a href=\"https://colab.research.google.com/github/tagtag/TDPCAbasedFE/blob/main/kadai.ipynb\" target=\"_parent\"><img src=\"https://colab.research.google.com/assets/colab-badge.svg\" alt=\"Open In Colab\"/></a>"
      ]
    },
    {
      "cell_type": "markdown",
      "source": [
        "seqcというパッケージをインストールします。説明は以下にありますが、理解の必要はないはずです。https://bioconductor.org/packages/release/data/experiment/html/seqc.html"
      ],
      "metadata": {
        "id": "A4k7XjGU-Cjj"
      }
    },
    {
      "cell_type": "code",
      "execution_count": null,
      "metadata": {
        "colab": {
          "base_uri": "https://localhost:8080/"
        },
        "id": "JH78n07G83R8",
        "outputId": "bd9b75ea-119f-468d-8db7-2c536192ca57"
      },
      "outputs": [
        {
          "output_type": "stream",
          "name": "stderr",
          "text": [
            "Installing package into ‘/usr/local/lib/R/site-library’\n",
            "(as ‘lib’ is unspecified)\n",
            "\n",
            "'getOption(\"repos\")' replaces Bioconductor standard repositories, see\n",
            "'?repositories' for details\n",
            "\n",
            "replacement repositories:\n",
            "    CRAN: https://cran.rstudio.com\n",
            "\n",
            "\n",
            "Bioconductor version 3.14 (BiocManager 1.30.16), R 4.1.2 (2021-11-01)\n",
            "\n",
            "Installing package(s) 'BiocVersion', 'seqc'\n",
            "\n",
            "also installing the dependencies ‘BiocGenerics’, ‘Biobase’\n",
            "\n",
            "\n",
            "Old packages: 'broom', 'cli', 'dtplyr', 'fansi', 'gert', 'glue', 'jsonlite',\n",
            "  'magrittr', 'pillar', 'Rcpp', 'rlang', 'testthat', 'yaml', 'class',\n",
            "  'foreign', 'MASS', 'nlme', 'nnet', 'rpart', 'spatial'\n",
            "\n"
          ]
        }
      ],
      "source": [
        "if (!requireNamespace(\"BiocManager\", quietly = TRUE))\n",
        "    install.packages(\"BiocManager\")\n",
        "\n",
        "BiocManager::install(\"seqc\")"
      ]
    },
    {
      "cell_type": "markdown",
      "source": [
        "沢山のデータフレームが含まれていますがそのうちのILM_refseq_gene_BGI というものをLABというオブジェクトに布置します"
      ],
      "metadata": {
        "id": "kTAjQXC--uSc"
      }
    },
    {
      "cell_type": "code",
      "source": [
        "require(seqc)\n",
        "LAB <- ILM_refseq_gene_BGI "
      ],
      "metadata": {
        "colab": {
          "base_uri": "https://localhost:8080/"
        },
        "id": "AFkVPuq2-Pt4",
        "outputId": "7191c7b1-a135-40c9-abfb-1da0ca2322e9"
      },
      "execution_count": null,
      "outputs": [
        {
          "output_type": "stream",
          "name": "stderr",
          "text": [
            "Loading required package: seqc\n",
            "\n"
          ]
        }
      ]
    },
    {
      "cell_type": "markdown",
      "source": [
        "LABは14261個の遺伝子が行になっており、１列目から４列目が遺伝子の名前です。５列目からは一列ずつが一個の実験です。列名がAで終わっている８０列とBで終わっている８０列を、最初の４列と並べて１４２６行×（４＋８０＋８０）列のデータフレームを作ります。また、ゼロが入っている行は除きます。"
      ],
      "metadata": {
        "id": "bLO2dhgr_E5r"
      }
    },
    {
      "cell_type": "code",
      "source": [
        "index_A <- substring(colnames(LAB),1,1)==\"A\"\n",
        "index_B <- substring(colnames(LAB),1,1)==\"B\"\n",
        "x_all <- data.frame(ILM_refseq_gene_BGI[,1:4],cbind(LAB[,index_A],LAB[,index_B]))\n",
        "\n",
        "x_all <- x_all[rowSums(x_all[,-c(1:4)]!=0)==dim(x_all[,-c(1:4)])[2],] #remove zeros"
      ],
      "metadata": {
        "id": "8Fc1JOGe_9g_"
      },
      "execution_count": null,
      "outputs": []
    },
    {
      "cell_type": "markdown",
      "source": [
        "次に講義で習った方法で遺伝子を選びます。"
      ],
      "metadata": {
        "id": "gAWa1HOLAPFL"
      }
    },
    {
      "cell_type": "code",
      "source": [
        "PCA <- prcomp(scale(x_all[,-c(1:4)]))\n",
        "P1 <- pchisq(scale(PCA$x[,2])^2,1,lower.tail=F)\n",
        "table(p.adjust(P1,\"BH\")<0.01)"
      ],
      "metadata": {
        "colab": {
          "base_uri": "https://localhost:8080/",
          "height": 70
        },
        "id": "asbLmtjDAcZx",
        "outputId": "f1cced89-6ea8-49bc-dde6-435ad64f5b95"
      },
      "execution_count": null,
      "outputs": [
        {
          "output_type": "display_data",
          "data": {
            "text/plain": [
              "\n",
              "FALSE  TRUE \n",
              "14154   107 "
            ]
          },
          "metadata": {}
        }
      ]
    },
    {
      "cell_type": "markdown",
      "source": [
        "１０７個の遺伝子が選ばれるはずです。この遺伝子の名前は以下の命令で取り出せます。"
      ],
      "metadata": {
        "id": "6_OIVgRzAfOx"
      }
    },
    {
      "cell_type": "code",
      "source": [
        "data.frame(x_all[p.adjust(P1,\"BH\")<0.01,2])"
      ],
      "metadata": {
        "colab": {
          "base_uri": "https://localhost:8080/",
          "height": 1000
        },
        "id": "hnyd_VkqAnYN",
        "outputId": "d856cbb9-e255-4d43-9207-9acd85875be3"
      },
      "execution_count": null,
      "outputs": [
        {
          "output_type": "display_data",
          "data": {
            "text/plain": [
              "    x_all.p.adjust.P1...BH.....0.01..2.\n",
              "1   NA                                 \n",
              "2   MTRNR2L1                           \n",
              "3   MTRNR2L2                           \n",
              "4   MTRNR2L8                           \n",
              "5   NA                                 \n",
              "6   RTN3                               \n",
              "7   TUBB4A                             \n",
              "8   GNB2L1                             \n",
              "9   CPLX2                              \n",
              "10  FAM107A                            \n",
              "11  CKB                                \n",
              "12  CLU                                \n",
              "13  CPE                                \n",
              "14  DNM1                               \n",
              "15  DPYSL2                             \n",
              "16  EEF1A1                             \n",
              "17  EEF2                               \n",
              "18  ABCA2                              \n",
              "19  ENO1                               \n",
              "20  TUBB                               \n",
              "21  C7ORF41                            \n",
              "22  ALDOA                              \n",
              "23  ALDOC                              \n",
              "24  FAIM2                              \n",
              "25  FLNA                               \n",
              "26  GANAB                              \n",
              "27  FN1                                \n",
              "28  FTH1                               \n",
              "29  FTL                                \n",
              "30  GAPDH                              \n",
              "⋮   ⋮                                  \n",
              "78  RPLP1                              \n",
              "79  RPS2                               \n",
              "80  RPS3                               \n",
              "81  RPS4X                              \n",
              "82  RPS6                               \n",
              "83  RPS8                               \n",
              "84  RTN1                               \n",
              "85  SCD                                \n",
              "86  PMEL                               \n",
              "87  NDRG4                              \n",
              "88  SLC1A2                             \n",
              "89  SNAP25                             \n",
              "90  STXBP1                             \n",
              "91  BSG                                \n",
              "92  SYT1                               \n",
              "93  ACTG1                              \n",
              "94  TPT1                               \n",
              "95  C3                                 \n",
              "96  HSP90B1                            \n",
              "97  RPL13AP5                           \n",
              "98  VIM                                \n",
              "99  VSNL1                              \n",
              "100 CALM1                              \n",
              "101 CALM3                              \n",
              "102 CALR                               \n",
              "103 TXNDC5                             \n",
              "104 SPARCL1                            \n",
              "105 ERCC-00002                         \n",
              "106 ERCC-00074                         \n",
              "107 ERCC-00130                         "
            ],
            "text/latex": "A data.frame: 107 × 1\n\\begin{tabular}{l}\n x\\_all.p.adjust.P1...BH.....0.01..2.\\\\\n <fct>\\\\\n\\hline\n\t NA      \\\\\n\t MTRNR2L1\\\\\n\t MTRNR2L2\\\\\n\t MTRNR2L8\\\\\n\t NA      \\\\\n\t RTN3    \\\\\n\t TUBB4A  \\\\\n\t GNB2L1  \\\\\n\t CPLX2   \\\\\n\t FAM107A \\\\\n\t CKB     \\\\\n\t CLU     \\\\\n\t CPE     \\\\\n\t DNM1    \\\\\n\t DPYSL2  \\\\\n\t EEF1A1  \\\\\n\t EEF2    \\\\\n\t ABCA2   \\\\\n\t ENO1    \\\\\n\t TUBB    \\\\\n\t C7ORF41 \\\\\n\t ALDOA   \\\\\n\t ALDOC   \\\\\n\t FAIM2   \\\\\n\t FLNA    \\\\\n\t GANAB   \\\\\n\t FN1     \\\\\n\t FTH1    \\\\\n\t FTL     \\\\\n\t GAPDH   \\\\\n\t ⋮\\\\\n\t RPLP1     \\\\\n\t RPS2      \\\\\n\t RPS3      \\\\\n\t RPS4X     \\\\\n\t RPS6      \\\\\n\t RPS8      \\\\\n\t RTN1      \\\\\n\t SCD       \\\\\n\t PMEL      \\\\\n\t NDRG4     \\\\\n\t SLC1A2    \\\\\n\t SNAP25    \\\\\n\t STXBP1    \\\\\n\t BSG       \\\\\n\t SYT1      \\\\\n\t ACTG1     \\\\\n\t TPT1      \\\\\n\t C3        \\\\\n\t HSP90B1   \\\\\n\t RPL13AP5  \\\\\n\t VIM       \\\\\n\t VSNL1     \\\\\n\t CALM1     \\\\\n\t CALM3     \\\\\n\t CALR      \\\\\n\t TXNDC5    \\\\\n\t SPARCL1   \\\\\n\t ERCC-00002\\\\\n\t ERCC-00074\\\\\n\t ERCC-00130\\\\\n\\end{tabular}\n",
            "text/markdown": "\nA data.frame: 107 × 1\n\n| x_all.p.adjust.P1...BH.....0.01..2. &lt;fct&gt; |\n|---|\n| NA       |\n| MTRNR2L1 |\n| MTRNR2L2 |\n| MTRNR2L8 |\n| NA       |\n| RTN3     |\n| TUBB4A   |\n| GNB2L1   |\n| CPLX2    |\n| FAM107A  |\n| CKB      |\n| CLU      |\n| CPE      |\n| DNM1     |\n| DPYSL2   |\n| EEF1A1   |\n| EEF2     |\n| ABCA2    |\n| ENO1     |\n| TUBB     |\n| C7ORF41  |\n| ALDOA    |\n| ALDOC    |\n| FAIM2    |\n| FLNA     |\n| GANAB    |\n| FN1      |\n| FTH1     |\n| FTL      |\n| GAPDH    |\n| ⋮ |\n| RPLP1      |\n| RPS2       |\n| RPS3       |\n| RPS4X      |\n| RPS6       |\n| RPS8       |\n| RTN1       |\n| SCD        |\n| PMEL       |\n| NDRG4      |\n| SLC1A2     |\n| SNAP25     |\n| STXBP1     |\n| BSG        |\n| SYT1       |\n| ACTG1      |\n| TPT1       |\n| C3         |\n| HSP90B1    |\n| RPL13AP5   |\n| VIM        |\n| VSNL1      |\n| CALM1      |\n| CALM3      |\n| CALR       |\n| TXNDC5     |\n| SPARCL1    |\n| ERCC-00002 |\n| ERCC-00074 |\n| ERCC-00130 |\n\n",
            "text/html": [
              "<table class=\"dataframe\">\n",
              "<caption>A data.frame: 107 × 1</caption>\n",
              "<thead>\n",
              "\t<tr><th scope=col>x_all.p.adjust.P1...BH.....0.01..2.</th></tr>\n",
              "\t<tr><th scope=col>&lt;fct&gt;</th></tr>\n",
              "</thead>\n",
              "<tbody>\n",
              "\t<tr><td>NA      </td></tr>\n",
              "\t<tr><td>MTRNR2L1</td></tr>\n",
              "\t<tr><td>MTRNR2L2</td></tr>\n",
              "\t<tr><td>MTRNR2L8</td></tr>\n",
              "\t<tr><td>NA      </td></tr>\n",
              "\t<tr><td>RTN3    </td></tr>\n",
              "\t<tr><td>TUBB4A  </td></tr>\n",
              "\t<tr><td>GNB2L1  </td></tr>\n",
              "\t<tr><td>CPLX2   </td></tr>\n",
              "\t<tr><td>FAM107A </td></tr>\n",
              "\t<tr><td>CKB     </td></tr>\n",
              "\t<tr><td>CLU     </td></tr>\n",
              "\t<tr><td>CPE     </td></tr>\n",
              "\t<tr><td>DNM1    </td></tr>\n",
              "\t<tr><td>DPYSL2  </td></tr>\n",
              "\t<tr><td>EEF1A1  </td></tr>\n",
              "\t<tr><td>EEF2    </td></tr>\n",
              "\t<tr><td>ABCA2   </td></tr>\n",
              "\t<tr><td>ENO1    </td></tr>\n",
              "\t<tr><td>TUBB    </td></tr>\n",
              "\t<tr><td>C7ORF41 </td></tr>\n",
              "\t<tr><td>ALDOA   </td></tr>\n",
              "\t<tr><td>ALDOC   </td></tr>\n",
              "\t<tr><td>FAIM2   </td></tr>\n",
              "\t<tr><td>FLNA    </td></tr>\n",
              "\t<tr><td>GANAB   </td></tr>\n",
              "\t<tr><td>FN1     </td></tr>\n",
              "\t<tr><td>FTH1    </td></tr>\n",
              "\t<tr><td>FTL     </td></tr>\n",
              "\t<tr><td>GAPDH   </td></tr>\n",
              "\t<tr><td>⋮</td></tr>\n",
              "\t<tr><td>RPLP1     </td></tr>\n",
              "\t<tr><td>RPS2      </td></tr>\n",
              "\t<tr><td>RPS3      </td></tr>\n",
              "\t<tr><td>RPS4X     </td></tr>\n",
              "\t<tr><td>RPS6      </td></tr>\n",
              "\t<tr><td>RPS8      </td></tr>\n",
              "\t<tr><td>RTN1      </td></tr>\n",
              "\t<tr><td>SCD       </td></tr>\n",
              "\t<tr><td>PMEL      </td></tr>\n",
              "\t<tr><td>NDRG4     </td></tr>\n",
              "\t<tr><td>SLC1A2    </td></tr>\n",
              "\t<tr><td>SNAP25    </td></tr>\n",
              "\t<tr><td>STXBP1    </td></tr>\n",
              "\t<tr><td>BSG       </td></tr>\n",
              "\t<tr><td>SYT1      </td></tr>\n",
              "\t<tr><td>ACTG1     </td></tr>\n",
              "\t<tr><td>TPT1      </td></tr>\n",
              "\t<tr><td>C3        </td></tr>\n",
              "\t<tr><td>HSP90B1   </td></tr>\n",
              "\t<tr><td>RPL13AP5  </td></tr>\n",
              "\t<tr><td>VIM       </td></tr>\n",
              "\t<tr><td>VSNL1     </td></tr>\n",
              "\t<tr><td>CALM1     </td></tr>\n",
              "\t<tr><td>CALM3     </td></tr>\n",
              "\t<tr><td>CALR      </td></tr>\n",
              "\t<tr><td>TXNDC5    </td></tr>\n",
              "\t<tr><td>SPARCL1   </td></tr>\n",
              "\t<tr><td>ERCC-00002</td></tr>\n",
              "\t<tr><td>ERCC-00074</td></tr>\n",
              "\t<tr><td>ERCC-00130</td></tr>\n",
              "</tbody>\n",
              "</table>\n"
            ]
          },
          "metadata": {}
        }
      ]
    },
    {
      "cell_type": "markdown",
      "source": [
        "以下、課題です。他に以下の様なデータフレームがあります。 \n",
        "ILM_refseq_gene_AGR \n",
        "ILM_refseq_gene_CNL \n",
        "ILM_refseq_gene_COH \n",
        "ILM_refseq_gene_MAY \n",
        "ILM_refseq_gene_NVS \n",
        "LIF_refseq_gene_LIV\n",
        "LIF_refseq_gene_NWU \n",
        "LIF_refseq_gene_PSU \n",
        "LIF_refseq_gene_SQW \n",
        "ROC_refseq_gene_MGP  \n",
        "ROC_refseq_gene_NYU\n",
        "ROC_refseq_gene_SQW 全部のデータフレームに同じことをして遺伝子を選んで、選んだ遺伝子のリストを出してください。\n"
      ],
      "metadata": {
        "id": "snDvaljvA1Sq"
      }
    },
    {
      "cell_type": "code",
      "source": [
        ""
      ],
      "metadata": {
        "id": "axb1fhF7BW3A"
      },
      "execution_count": null,
      "outputs": []
    }
  ]
}